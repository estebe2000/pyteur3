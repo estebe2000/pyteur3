{
  "cells": [
    {
      "cell_type": "markdown",
      "metadata": {},
      "source": [
        " Exercice de programmation Python destiné à des débutants en informatique.\n",
        "\n",
        "   Thème : Addition de deux variables\n",
        "   Difficulté : 1/5\n",
        "   Débutant : true\n",
        "\n",
        "   **Squelette de code**\n",
        "\n",
        "   ```python\n",
        "   # Définir les variables à ajouter\n",
        "   variable_1 = # À COMPLÉTER: Définissez votre première variable\n",
        "   variable_2 = # À COMPLÉTER: Définissez votre deuxième variable\n",
        "\n",
        "   # Calculer la somme des deux variables\n",
        "   resultat = # À COMPLÉTER: Effectuez l'addition de variable_1 et variable_2\n",
        "\n",
        "   # Afficher le résultat\n",
        "   print(\"Le résultat de l'addition est : \", resultat)\n",
        "   ```\n",
        "\n",
        "   **Explications**\n",
        "\n",
        "   Dans cet exercice, vous devrez définir deux variables (variable_1 et variable_2). Vous devrez ensuite les ajouter pour obtenir un résultat (resultat), puis afficher ce résultat. Les opérations de base sont autorisées (addition, comparaison, etc.). Les structures de contrôle de boucle (for/while) ainsi que les fonctions ne doivent pas être utilisées dans ce squelette de code.\n"
      ]
    }
  ],
  "metadata": {
    "kernelspec": {
      "display_name": "Python 3",
      "language": "python",
      "name": "python3"
    },
    "language_info": {
      "name": "python",
      "version": "3.8"
    }
  },
  "nbformat": 4,
  "nbformat_minor": 2
}