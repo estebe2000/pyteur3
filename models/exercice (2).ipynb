{
  "cells": [
    {
      "cell_type": "markdown",
      "metadata": {},
      "source": [
        " Title : Addition de deux variables en Python pour débutants\n",
        "\n",
        "   Voici un exercice simple destiné à vous aider à comprendre les variables et l'opération d'addition en Python. Il n'utilise aucune fonction, classe ou objet, afin que cela soit accessible à tous les débutants.\n",
        "\n",
        "```python\n",
        "# Début de l'exercice\n",
        "\n",
        "# Créez deux variables avec vos noms respectifs. Vous pouvez donner tout nom que vous souhaitez à chaque variable.\n",
        "nom1 = \"# VOTRE NOMS ICI\"\n",
        "nom2 = \"# VOTRE PRENOM ICI\"\n",
        "\n",
        "# Ajoutez les valeurs de ces deux variables et stockez le résultat dans une nouvelle variable appelée \"nom_complet\".\n",
        "nom_complet = nom1 + \" \" + nom2\n",
        "\n",
        "# Affichez votre nom complet en utilisant la fonction print.\n",
        "print(f\"Votre nom complet est : {nom_complet}\")\n",
        "```\n"
      ]
    }
  ],
  "metadata": {},
  "nbformat": 4,
  "nbformat_minor": 2
}